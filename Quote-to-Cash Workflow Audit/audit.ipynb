{
 "cells": [
  {
   "cell_type": "markdown",
   "id": "1d9df5c1-e8b3-4d46-b726-96e125a53908",
   "metadata": {},
   "source": [
    "# 📊 Quote-to-Cash Workflow Audit\n",
    "\n",
    "This notebook explores a mock Quote-to-Cash (QTC) workflow using synthetic datasets inspired by real-world systems:\n",
    "- **Salesforce Opportunities** for sales pipeline management\n",
    "- **Zuora Subscriptions** for billing operations\n",
    "- **RevPro Revenue** for financial recognition\n",
    "\n",
    "We'll join and analyze these datasets to understand the lifecycle from sales opportunity to recognized revenue."
   ]
  },
  {
   "cell_type": "markdown",
   "id": "0fcd310c-eed4-4414-be4e-77c43f9f7103",
   "metadata": {},
   "source": [
    "## 📦 Load Data\n",
    "We begin by loading three datasets from an Excel file:\n",
    "- `salesforce_opportunities`\n",
    "- `zuora_subscriptions`\n",
    "- `revpro_revenue`\n",
    "\n",
    "Each sheet represents a different system in the QTC process."
   ]
  },
  {
   "cell_type": "code",
   "execution_count": 1,
   "id": "caa7ee7e-7d42-4cdd-b40b-a6e588dfa284",
   "metadata": {},
   "outputs": [],
   "source": [
    "import pandas as pd\n",
    "import seaborn as sns\n",
    "import matplotlib.pyplot as plt\n",
    "from dataframe_tools import DataFrameInspector  # Custom class for summarizing dataframes"
   ]
  },
  {
   "cell_type": "code",
   "execution_count": 2,
   "id": "67a21170-7474-4e92-abe5-933632715636",
   "metadata": {},
   "outputs": [],
   "source": [
    "excel_file = 'Quote-to-Cash Mock Data.xlsx'\n",
    "dfs = pd.read_excel(excel_file, sheet_name=None)\n",
    "df_opps = dfs['salesforce_opportunities']\n",
    "df_subs = dfs['zuora_subscriptions']\n",
    "df_rev = dfs['revpro_revenue']"
   ]
  },
  {
   "cell_type": "markdown",
   "id": "0cfdb36c-8ed8-4d78-94b3-11de05d2dc3f",
   "metadata": {},
   "source": [
    "## 🧾 Inspect Each Dataset\n",
    "We'll use the `DataFrameInspector` utility to summarize column-level information for each dataset."
   ]
  },
  {
   "cell_type": "code",
   "execution_count": 3,
   "id": "24590abb-1ccc-430d-8453-c282fff453c0",
   "metadata": {},
   "outputs": [],
   "source": [
    "df_opps_summary = DataFrameInspector(df_opps).generate_summary()\n",
    "df_subs_summary = DataFrameInspector(df_subs).generate_summary()\n",
    "df_rev_summary = DataFrameInspector(df_rev).generate_summary()"
   ]
  },
  {
   "cell_type": "markdown",
   "id": "c8f89410-69fe-48a5-8d28-1325ee81083b",
   "metadata": {},
   "source": [
    "### 🔍 Salesforce Opportunities Summary"
   ]
  },
  {
   "cell_type": "code",
   "execution_count": 4,
   "id": "1a147499-42a7-4462-a743-848ee7a33212",
   "metadata": {},
   "outputs": [
    {
     "data": {
      "application/vnd.microsoft.datawrangler.viewer.v0+json": {
       "columns": [
        {
         "name": "index",
         "rawType": "int64",
         "type": "integer"
        },
        {
         "name": "Column",
         "rawType": "object",
         "type": "string"
        },
        {
         "name": "Data Type",
         "rawType": "object",
         "type": "unknown"
        },
        {
         "name": "Missing Values",
         "rawType": "int64",
         "type": "integer"
        },
        {
         "name": "Unique Values",
         "rawType": "int64",
         "type": "integer"
        },
        {
         "name": "Unique Examples",
         "rawType": "object",
         "type": "string"
        },
        {
         "name": "Min",
         "rawType": "float64",
         "type": "float"
        },
        {
         "name": "25%",
         "rawType": "float64",
         "type": "float"
        },
        {
         "name": "50%",
         "rawType": "float64",
         "type": "float"
        },
        {
         "name": "75%",
         "rawType": "float64",
         "type": "float"
        },
        {
         "name": "Max",
         "rawType": "float64",
         "type": "float"
        },
        {
         "name": "Mean",
         "rawType": "float64",
         "type": "float"
        },
        {
         "name": "Std Dev",
         "rawType": "float64",
         "type": "float"
        }
       ],
       "ref": "5a59e465-0112-4115-a689-0474b8ab0504",
       "rows": [
        [
         "0",
         "opportunity_id",
         "object",
         "0",
         "500",
         "OPP001, OPP002, OPP003, OPP004, OPP005, OPP006, OPP007, OPP008, OPP009, OPP010 (+ 490 more...)",
         null,
         null,
         null,
         null,
         null,
         null,
         null
        ],
        [
         "1",
         "account_id",
         "object",
         "0",
         "500",
         "ACCT001, ACCT002, ACCT003, ACCT004, ACCT005, ACCT006, ACCT007, ACCT008, ACCT009, ACCT010 (+ 490 more...)",
         null,
         null,
         null,
         null,
         null,
         null,
         null
        ],
        [
         "2",
         "created_at",
         "datetime64[ns]",
         "0",
         "155",
         "2025-03-13 00:00:00, 2025-02-17 00:00:00, 2025-02-12 00:00:00, 2025-01-17 00:00:00, 2025-04-22 00:00:00, 2025-05-12 00:00:00, 2025-04-30 00:00:00, 2025-05-19 00:00:00, 2025-04-07 00:00:00, 2025-01-16 00:00:00 (+ 145 more...)",
         null,
         null,
         null,
         null,
         null,
         null,
         null
        ],
        [
         "3",
         "stage",
         "object",
         "0",
         "2",
         "Closed Won, Closed Lost",
         null,
         null,
         null,
         null,
         null,
         null,
         null
        ],
        [
         "4",
         "amount",
         "float64",
         "205",
         "2",
         "59.99, 29.99",
         "29.99",
         "29.99",
         "29.99",
         "59.99",
         "59.99",
         "42.19338983050848",
         "14.762034939153688"
        ],
        [
         "5",
         "closed_won_at",
         "datetime64[ns]",
         "205",
         "134",
         "2025-03-19 00:00:00, 2025-03-04 00:00:00, 2025-02-24 00:00:00, 2025-02-06 00:00:00, 2025-03-14 00:00:00, 2025-06-04 00:00:00, 2025-01-20 00:00:00, 2025-05-25 00:00:00, 2025-05-26 00:00:00, 2025-04-19 00:00:00 (+ 124 more...)",
         null,
         null,
         null,
         null,
         null,
         null,
         null
        ]
       ],
       "shape": {
        "columns": 12,
        "rows": 6
       }
      },
      "text/html": [
       "<div>\n",
       "<style scoped>\n",
       "    .dataframe tbody tr th:only-of-type {\n",
       "        vertical-align: middle;\n",
       "    }\n",
       "\n",
       "    .dataframe tbody tr th {\n",
       "        vertical-align: top;\n",
       "    }\n",
       "\n",
       "    .dataframe thead th {\n",
       "        text-align: right;\n",
       "    }\n",
       "</style>\n",
       "<table border=\"1\" class=\"dataframe\">\n",
       "  <thead>\n",
       "    <tr style=\"text-align: right;\">\n",
       "      <th></th>\n",
       "      <th>Column</th>\n",
       "      <th>Data Type</th>\n",
       "      <th>Missing Values</th>\n",
       "      <th>Unique Values</th>\n",
       "      <th>Unique Examples</th>\n",
       "      <th>Min</th>\n",
       "      <th>25%</th>\n",
       "      <th>50%</th>\n",
       "      <th>75%</th>\n",
       "      <th>Max</th>\n",
       "      <th>Mean</th>\n",
       "      <th>Std Dev</th>\n",
       "    </tr>\n",
       "  </thead>\n",
       "  <tbody>\n",
       "    <tr>\n",
       "      <th>0</th>\n",
       "      <td>opportunity_id</td>\n",
       "      <td>object</td>\n",
       "      <td>0</td>\n",
       "      <td>500</td>\n",
       "      <td>OPP001, OPP002, OPP003, OPP004, OPP005, OPP006...</td>\n",
       "      <td>NaN</td>\n",
       "      <td>NaN</td>\n",
       "      <td>NaN</td>\n",
       "      <td>NaN</td>\n",
       "      <td>NaN</td>\n",
       "      <td>NaN</td>\n",
       "      <td>NaN</td>\n",
       "    </tr>\n",
       "    <tr>\n",
       "      <th>1</th>\n",
       "      <td>account_id</td>\n",
       "      <td>object</td>\n",
       "      <td>0</td>\n",
       "      <td>500</td>\n",
       "      <td>ACCT001, ACCT002, ACCT003, ACCT004, ACCT005, A...</td>\n",
       "      <td>NaN</td>\n",
       "      <td>NaN</td>\n",
       "      <td>NaN</td>\n",
       "      <td>NaN</td>\n",
       "      <td>NaN</td>\n",
       "      <td>NaN</td>\n",
       "      <td>NaN</td>\n",
       "    </tr>\n",
       "    <tr>\n",
       "      <th>2</th>\n",
       "      <td>created_at</td>\n",
       "      <td>datetime64[ns]</td>\n",
       "      <td>0</td>\n",
       "      <td>155</td>\n",
       "      <td>2025-03-13 00:00:00, 2025-02-17 00:00:00, 2025...</td>\n",
       "      <td>NaN</td>\n",
       "      <td>NaN</td>\n",
       "      <td>NaN</td>\n",
       "      <td>NaN</td>\n",
       "      <td>NaN</td>\n",
       "      <td>NaN</td>\n",
       "      <td>NaN</td>\n",
       "    </tr>\n",
       "    <tr>\n",
       "      <th>3</th>\n",
       "      <td>stage</td>\n",
       "      <td>object</td>\n",
       "      <td>0</td>\n",
       "      <td>2</td>\n",
       "      <td>Closed Won, Closed Lost</td>\n",
       "      <td>NaN</td>\n",
       "      <td>NaN</td>\n",
       "      <td>NaN</td>\n",
       "      <td>NaN</td>\n",
       "      <td>NaN</td>\n",
       "      <td>NaN</td>\n",
       "      <td>NaN</td>\n",
       "    </tr>\n",
       "    <tr>\n",
       "      <th>4</th>\n",
       "      <td>amount</td>\n",
       "      <td>float64</td>\n",
       "      <td>205</td>\n",
       "      <td>2</td>\n",
       "      <td>59.99, 29.99</td>\n",
       "      <td>29.99</td>\n",
       "      <td>29.99</td>\n",
       "      <td>29.99</td>\n",
       "      <td>59.99</td>\n",
       "      <td>59.99</td>\n",
       "      <td>42.19339</td>\n",
       "      <td>14.762035</td>\n",
       "    </tr>\n",
       "    <tr>\n",
       "      <th>5</th>\n",
       "      <td>closed_won_at</td>\n",
       "      <td>datetime64[ns]</td>\n",
       "      <td>205</td>\n",
       "      <td>134</td>\n",
       "      <td>2025-03-19 00:00:00, 2025-03-04 00:00:00, 2025...</td>\n",
       "      <td>NaN</td>\n",
       "      <td>NaN</td>\n",
       "      <td>NaN</td>\n",
       "      <td>NaN</td>\n",
       "      <td>NaN</td>\n",
       "      <td>NaN</td>\n",
       "      <td>NaN</td>\n",
       "    </tr>\n",
       "  </tbody>\n",
       "</table>\n",
       "</div>"
      ],
      "text/plain": [
       "           Column       Data Type  Missing Values  Unique Values  \\\n",
       "0  opportunity_id          object               0            500   \n",
       "1      account_id          object               0            500   \n",
       "2      created_at  datetime64[ns]               0            155   \n",
       "3           stage          object               0              2   \n",
       "4          amount         float64             205              2   \n",
       "5   closed_won_at  datetime64[ns]             205            134   \n",
       "\n",
       "                                     Unique Examples    Min    25%    50%  \\\n",
       "0  OPP001, OPP002, OPP003, OPP004, OPP005, OPP006...    NaN    NaN    NaN   \n",
       "1  ACCT001, ACCT002, ACCT003, ACCT004, ACCT005, A...    NaN    NaN    NaN   \n",
       "2  2025-03-13 00:00:00, 2025-02-17 00:00:00, 2025...    NaN    NaN    NaN   \n",
       "3                            Closed Won, Closed Lost    NaN    NaN    NaN   \n",
       "4                                       59.99, 29.99  29.99  29.99  29.99   \n",
       "5  2025-03-19 00:00:00, 2025-03-04 00:00:00, 2025...    NaN    NaN    NaN   \n",
       "\n",
       "     75%    Max      Mean    Std Dev  \n",
       "0    NaN    NaN       NaN        NaN  \n",
       "1    NaN    NaN       NaN        NaN  \n",
       "2    NaN    NaN       NaN        NaN  \n",
       "3    NaN    NaN       NaN        NaN  \n",
       "4  59.99  59.99  42.19339  14.762035  \n",
       "5    NaN    NaN       NaN        NaN  "
      ]
     },
     "execution_count": 4,
     "metadata": {},
     "output_type": "execute_result"
    }
   ],
   "source": [
    "df_opps_summary"
   ]
  },
  {
   "cell_type": "markdown",
   "id": "c4b33f8e-eaae-42c7-ae3a-d8b21c488c4d",
   "metadata": {},
   "source": [
    "### 🔍 Zuora Subscriptions Summary"
   ]
  },
  {
   "cell_type": "code",
   "execution_count": 5,
   "id": "7eddbbf9-b432-4be5-8626-fbb1336303af",
   "metadata": {},
   "outputs": [
    {
     "data": {
      "application/vnd.microsoft.datawrangler.viewer.v0+json": {
       "columns": [
        {
         "name": "index",
         "rawType": "int64",
         "type": "integer"
        },
        {
         "name": "Column",
         "rawType": "object",
         "type": "string"
        },
        {
         "name": "Data Type",
         "rawType": "object",
         "type": "unknown"
        },
        {
         "name": "Missing Values",
         "rawType": "int64",
         "type": "integer"
        },
        {
         "name": "Unique Values",
         "rawType": "int64",
         "type": "integer"
        },
        {
         "name": "Unique Examples",
         "rawType": "object",
         "type": "string"
        },
        {
         "name": "Min",
         "rawType": "float64",
         "type": "float"
        },
        {
         "name": "25%",
         "rawType": "float64",
         "type": "float"
        },
        {
         "name": "50%",
         "rawType": "float64",
         "type": "float"
        },
        {
         "name": "75%",
         "rawType": "float64",
         "type": "float"
        },
        {
         "name": "Max",
         "rawType": "float64",
         "type": "float"
        },
        {
         "name": "Mean",
         "rawType": "float64",
         "type": "float"
        },
        {
         "name": "Std Dev",
         "rawType": "float64",
         "type": "float"
        }
       ],
       "ref": "89419417-cb8c-4f5b-b7e3-c9a2b9aee944",
       "rows": [
        [
         "0",
         "subscription_id",
         "object",
         "0",
         "295",
         "SUB001, SUB002, SUB003, SUB004, SUB005, SUB006, SUB007, SUB008, SUB009, SUB010 (+ 285 more...)",
         null,
         null,
         null,
         null,
         null,
         null,
         null
        ],
        [
         "1",
         "opportunity_id",
         "object",
         "0",
         "295",
         "OPP001, OPP002, OPP003, OPP004, OPP005, OPP007, OPP011, OPP013, OPP015, OPP016 (+ 285 more...)",
         null,
         null,
         null,
         null,
         null,
         null,
         null
        ],
        [
         "2",
         "start_date",
         "datetime64[ns]",
         "0",
         "141",
         "2025-03-30 00:00:00, 2025-03-19 00:00:00, 2025-03-05 00:00:00, 2025-02-20 00:00:00, 2025-03-26 00:00:00, 2025-06-14 00:00:00, 2025-01-29 00:00:00, 2025-06-03 00:00:00, 2025-06-06 00:00:00, 2025-05-04 00:00:00 (+ 131 more...)",
         null,
         null,
         null,
         null,
         null,
         null,
         null
        ],
        [
         "3",
         "end_date",
         "datetime64[ns]",
         "0",
         "141",
         "2026-03-30 00:00:00, 2026-03-19 00:00:00, 2026-03-05 00:00:00, 2026-02-20 00:00:00, 2026-03-26 00:00:00, 2026-06-14 00:00:00, 2026-01-29 00:00:00, 2026-06-03 00:00:00, 2026-06-06 00:00:00, 2026-05-04 00:00:00 (+ 131 more...)",
         null,
         null,
         null,
         null,
         null,
         null,
         null
        ],
        [
         "4",
         "billing_status",
         "object",
         "0",
         "2",
         "Active, Suspended",
         null,
         null,
         null,
         null,
         null,
         null,
         null
        ],
        [
         "5",
         "invoice_count",
         "int64",
         "0",
         "7",
         "3, 4, 1, 5, 2, 0, 6",
         "0.0",
         "2.0",
         "3.0",
         "4.0",
         "6.0",
         "2.8779661016949154",
         "1.564494201871817"
        ]
       ],
       "shape": {
        "columns": 12,
        "rows": 6
       }
      },
      "text/html": [
       "<div>\n",
       "<style scoped>\n",
       "    .dataframe tbody tr th:only-of-type {\n",
       "        vertical-align: middle;\n",
       "    }\n",
       "\n",
       "    .dataframe tbody tr th {\n",
       "        vertical-align: top;\n",
       "    }\n",
       "\n",
       "    .dataframe thead th {\n",
       "        text-align: right;\n",
       "    }\n",
       "</style>\n",
       "<table border=\"1\" class=\"dataframe\">\n",
       "  <thead>\n",
       "    <tr style=\"text-align: right;\">\n",
       "      <th></th>\n",
       "      <th>Column</th>\n",
       "      <th>Data Type</th>\n",
       "      <th>Missing Values</th>\n",
       "      <th>Unique Values</th>\n",
       "      <th>Unique Examples</th>\n",
       "      <th>Min</th>\n",
       "      <th>25%</th>\n",
       "      <th>50%</th>\n",
       "      <th>75%</th>\n",
       "      <th>Max</th>\n",
       "      <th>Mean</th>\n",
       "      <th>Std Dev</th>\n",
       "    </tr>\n",
       "  </thead>\n",
       "  <tbody>\n",
       "    <tr>\n",
       "      <th>0</th>\n",
       "      <td>subscription_id</td>\n",
       "      <td>object</td>\n",
       "      <td>0</td>\n",
       "      <td>295</td>\n",
       "      <td>SUB001, SUB002, SUB003, SUB004, SUB005, SUB006...</td>\n",
       "      <td>NaN</td>\n",
       "      <td>NaN</td>\n",
       "      <td>NaN</td>\n",
       "      <td>NaN</td>\n",
       "      <td>NaN</td>\n",
       "      <td>NaN</td>\n",
       "      <td>NaN</td>\n",
       "    </tr>\n",
       "    <tr>\n",
       "      <th>1</th>\n",
       "      <td>opportunity_id</td>\n",
       "      <td>object</td>\n",
       "      <td>0</td>\n",
       "      <td>295</td>\n",
       "      <td>OPP001, OPP002, OPP003, OPP004, OPP005, OPP007...</td>\n",
       "      <td>NaN</td>\n",
       "      <td>NaN</td>\n",
       "      <td>NaN</td>\n",
       "      <td>NaN</td>\n",
       "      <td>NaN</td>\n",
       "      <td>NaN</td>\n",
       "      <td>NaN</td>\n",
       "    </tr>\n",
       "    <tr>\n",
       "      <th>2</th>\n",
       "      <td>start_date</td>\n",
       "      <td>datetime64[ns]</td>\n",
       "      <td>0</td>\n",
       "      <td>141</td>\n",
       "      <td>2025-03-30 00:00:00, 2025-03-19 00:00:00, 2025...</td>\n",
       "      <td>NaN</td>\n",
       "      <td>NaN</td>\n",
       "      <td>NaN</td>\n",
       "      <td>NaN</td>\n",
       "      <td>NaN</td>\n",
       "      <td>NaN</td>\n",
       "      <td>NaN</td>\n",
       "    </tr>\n",
       "    <tr>\n",
       "      <th>3</th>\n",
       "      <td>end_date</td>\n",
       "      <td>datetime64[ns]</td>\n",
       "      <td>0</td>\n",
       "      <td>141</td>\n",
       "      <td>2026-03-30 00:00:00, 2026-03-19 00:00:00, 2026...</td>\n",
       "      <td>NaN</td>\n",
       "      <td>NaN</td>\n",
       "      <td>NaN</td>\n",
       "      <td>NaN</td>\n",
       "      <td>NaN</td>\n",
       "      <td>NaN</td>\n",
       "      <td>NaN</td>\n",
       "    </tr>\n",
       "    <tr>\n",
       "      <th>4</th>\n",
       "      <td>billing_status</td>\n",
       "      <td>object</td>\n",
       "      <td>0</td>\n",
       "      <td>2</td>\n",
       "      <td>Active, Suspended</td>\n",
       "      <td>NaN</td>\n",
       "      <td>NaN</td>\n",
       "      <td>NaN</td>\n",
       "      <td>NaN</td>\n",
       "      <td>NaN</td>\n",
       "      <td>NaN</td>\n",
       "      <td>NaN</td>\n",
       "    </tr>\n",
       "    <tr>\n",
       "      <th>5</th>\n",
       "      <td>invoice_count</td>\n",
       "      <td>int64</td>\n",
       "      <td>0</td>\n",
       "      <td>7</td>\n",
       "      <td>3, 4, 1, 5, 2, 0, 6</td>\n",
       "      <td>0.0</td>\n",
       "      <td>2.0</td>\n",
       "      <td>3.0</td>\n",
       "      <td>4.0</td>\n",
       "      <td>6.0</td>\n",
       "      <td>2.877966</td>\n",
       "      <td>1.564494</td>\n",
       "    </tr>\n",
       "  </tbody>\n",
       "</table>\n",
       "</div>"
      ],
      "text/plain": [
       "            Column       Data Type  Missing Values  Unique Values  \\\n",
       "0  subscription_id          object               0            295   \n",
       "1   opportunity_id          object               0            295   \n",
       "2       start_date  datetime64[ns]               0            141   \n",
       "3         end_date  datetime64[ns]               0            141   \n",
       "4   billing_status          object               0              2   \n",
       "5    invoice_count           int64               0              7   \n",
       "\n",
       "                                     Unique Examples  Min  25%  50%  75%  Max  \\\n",
       "0  SUB001, SUB002, SUB003, SUB004, SUB005, SUB006...  NaN  NaN  NaN  NaN  NaN   \n",
       "1  OPP001, OPP002, OPP003, OPP004, OPP005, OPP007...  NaN  NaN  NaN  NaN  NaN   \n",
       "2  2025-03-30 00:00:00, 2025-03-19 00:00:00, 2025...  NaN  NaN  NaN  NaN  NaN   \n",
       "3  2026-03-30 00:00:00, 2026-03-19 00:00:00, 2026...  NaN  NaN  NaN  NaN  NaN   \n",
       "4                                  Active, Suspended  NaN  NaN  NaN  NaN  NaN   \n",
       "5                                3, 4, 1, 5, 2, 0, 6  0.0  2.0  3.0  4.0  6.0   \n",
       "\n",
       "       Mean   Std Dev  \n",
       "0       NaN       NaN  \n",
       "1       NaN       NaN  \n",
       "2       NaN       NaN  \n",
       "3       NaN       NaN  \n",
       "4       NaN       NaN  \n",
       "5  2.877966  1.564494  "
      ]
     },
     "execution_count": 5,
     "metadata": {},
     "output_type": "execute_result"
    }
   ],
   "source": [
    "df_subs_summary"
   ]
  },
  {
   "cell_type": "markdown",
   "id": "4e046b52-6516-44b4-8ecc-a88938febada",
   "metadata": {},
   "source": [
    "### 🔍 RevPro Revenue Summary"
   ]
  },
  {
   "cell_type": "code",
   "execution_count": 6,
   "id": "1bf05ff9-6021-4b01-b697-fd3f1c4ecb64",
   "metadata": {},
   "outputs": [
    {
     "data": {
      "application/vnd.microsoft.datawrangler.viewer.v0+json": {
       "columns": [
        {
         "name": "index",
         "rawType": "int64",
         "type": "integer"
        },
        {
         "name": "Column",
         "rawType": "object",
         "type": "string"
        },
        {
         "name": "Data Type",
         "rawType": "object",
         "type": "unknown"
        },
        {
         "name": "Missing Values",
         "rawType": "int64",
         "type": "integer"
        },
        {
         "name": "Unique Values",
         "rawType": "int64",
         "type": "integer"
        },
        {
         "name": "Unique Examples",
         "rawType": "object",
         "type": "string"
        },
        {
         "name": "Min",
         "rawType": "float64",
         "type": "float"
        },
        {
         "name": "25%",
         "rawType": "float64",
         "type": "float"
        },
        {
         "name": "50%",
         "rawType": "float64",
         "type": "float"
        },
        {
         "name": "75%",
         "rawType": "float64",
         "type": "float"
        },
        {
         "name": "Max",
         "rawType": "float64",
         "type": "float"
        },
        {
         "name": "Mean",
         "rawType": "float64",
         "type": "float"
        },
        {
         "name": "Std Dev",
         "rawType": "float64",
         "type": "float"
        }
       ],
       "ref": "86c49e02-bec7-4fcd-991c-3dc542a2a26c",
       "rows": [
        [
         "0",
         "subscription_id",
         "object",
         "0",
         "295",
         "SUB001, SUB002, SUB003, SUB004, SUB005, SUB006, SUB007, SUB008, SUB009, SUB010 (+ 285 more...)",
         null,
         null,
         null,
         null,
         null,
         null,
         null
        ],
        [
         "1",
         "recognized_amount",
         "float64",
         "0",
         "2",
         "47.992, 23.992",
         "23.992",
         "23.992",
         "23.992",
         "47.992",
         "47.992",
         "33.75471186440679",
         "11.809627951322947"
        ],
        [
         "2",
         "recognition_date",
         "datetime64[ns]",
         "0",
         "146",
         "2025-04-04 00:00:00, 2025-03-28 00:00:00, 2025-03-12 00:00:00, 2025-02-28 00:00:00, 2025-06-23 00:00:00, 2025-02-06 00:00:00, 2025-06-09 00:00:00, 2025-06-14 00:00:00, 2025-05-10 00:00:00, 2025-03-17 00:00:00 (+ 136 more...)",
         null,
         null,
         null,
         null,
         null,
         null,
         null
        ],
        [
         "3",
         "status",
         "object",
         "0",
         "2",
         "Recognized, Pending",
         null,
         null,
         null,
         null,
         null,
         null,
         null
        ]
       ],
       "shape": {
        "columns": 12,
        "rows": 4
       }
      },
      "text/html": [
       "<div>\n",
       "<style scoped>\n",
       "    .dataframe tbody tr th:only-of-type {\n",
       "        vertical-align: middle;\n",
       "    }\n",
       "\n",
       "    .dataframe tbody tr th {\n",
       "        vertical-align: top;\n",
       "    }\n",
       "\n",
       "    .dataframe thead th {\n",
       "        text-align: right;\n",
       "    }\n",
       "</style>\n",
       "<table border=\"1\" class=\"dataframe\">\n",
       "  <thead>\n",
       "    <tr style=\"text-align: right;\">\n",
       "      <th></th>\n",
       "      <th>Column</th>\n",
       "      <th>Data Type</th>\n",
       "      <th>Missing Values</th>\n",
       "      <th>Unique Values</th>\n",
       "      <th>Unique Examples</th>\n",
       "      <th>Min</th>\n",
       "      <th>25%</th>\n",
       "      <th>50%</th>\n",
       "      <th>75%</th>\n",
       "      <th>Max</th>\n",
       "      <th>Mean</th>\n",
       "      <th>Std Dev</th>\n",
       "    </tr>\n",
       "  </thead>\n",
       "  <tbody>\n",
       "    <tr>\n",
       "      <th>0</th>\n",
       "      <td>subscription_id</td>\n",
       "      <td>object</td>\n",
       "      <td>0</td>\n",
       "      <td>295</td>\n",
       "      <td>SUB001, SUB002, SUB003, SUB004, SUB005, SUB006...</td>\n",
       "      <td>NaN</td>\n",
       "      <td>NaN</td>\n",
       "      <td>NaN</td>\n",
       "      <td>NaN</td>\n",
       "      <td>NaN</td>\n",
       "      <td>NaN</td>\n",
       "      <td>NaN</td>\n",
       "    </tr>\n",
       "    <tr>\n",
       "      <th>1</th>\n",
       "      <td>recognized_amount</td>\n",
       "      <td>float64</td>\n",
       "      <td>0</td>\n",
       "      <td>2</td>\n",
       "      <td>47.992, 23.992</td>\n",
       "      <td>23.992</td>\n",
       "      <td>23.992</td>\n",
       "      <td>23.992</td>\n",
       "      <td>47.992</td>\n",
       "      <td>47.992</td>\n",
       "      <td>33.754712</td>\n",
       "      <td>11.809628</td>\n",
       "    </tr>\n",
       "    <tr>\n",
       "      <th>2</th>\n",
       "      <td>recognition_date</td>\n",
       "      <td>datetime64[ns]</td>\n",
       "      <td>0</td>\n",
       "      <td>146</td>\n",
       "      <td>2025-04-04 00:00:00, 2025-03-28 00:00:00, 2025...</td>\n",
       "      <td>NaN</td>\n",
       "      <td>NaN</td>\n",
       "      <td>NaN</td>\n",
       "      <td>NaN</td>\n",
       "      <td>NaN</td>\n",
       "      <td>NaN</td>\n",
       "      <td>NaN</td>\n",
       "    </tr>\n",
       "    <tr>\n",
       "      <th>3</th>\n",
       "      <td>status</td>\n",
       "      <td>object</td>\n",
       "      <td>0</td>\n",
       "      <td>2</td>\n",
       "      <td>Recognized, Pending</td>\n",
       "      <td>NaN</td>\n",
       "      <td>NaN</td>\n",
       "      <td>NaN</td>\n",
       "      <td>NaN</td>\n",
       "      <td>NaN</td>\n",
       "      <td>NaN</td>\n",
       "      <td>NaN</td>\n",
       "    </tr>\n",
       "  </tbody>\n",
       "</table>\n",
       "</div>"
      ],
      "text/plain": [
       "              Column       Data Type  Missing Values  Unique Values  \\\n",
       "0    subscription_id          object               0            295   \n",
       "1  recognized_amount         float64               0              2   \n",
       "2   recognition_date  datetime64[ns]               0            146   \n",
       "3             status          object               0              2   \n",
       "\n",
       "                                     Unique Examples     Min     25%     50%  \\\n",
       "0  SUB001, SUB002, SUB003, SUB004, SUB005, SUB006...     NaN     NaN     NaN   \n",
       "1                                     47.992, 23.992  23.992  23.992  23.992   \n",
       "2  2025-04-04 00:00:00, 2025-03-28 00:00:00, 2025...     NaN     NaN     NaN   \n",
       "3                                Recognized, Pending     NaN     NaN     NaN   \n",
       "\n",
       "      75%     Max       Mean    Std Dev  \n",
       "0     NaN     NaN        NaN        NaN  \n",
       "1  47.992  47.992  33.754712  11.809628  \n",
       "2     NaN     NaN        NaN        NaN  \n",
       "3     NaN     NaN        NaN        NaN  "
      ]
     },
     "execution_count": 6,
     "metadata": {},
     "output_type": "execute_result"
    }
   ],
   "source": [
    "df_rev_summary"
   ]
  },
  {
   "cell_type": "markdown",
   "id": "8b1a9023-6ef2-404e-96dd-104fd6436461",
   "metadata": {},
   "source": [
    "## 🔗 Join the Data\n",
    "We'll now merge the datasets to build a unified view of each opportunity's path from sales to subscription to revenue."
   ]
  },
  {
   "cell_type": "code",
   "execution_count": 7,
   "id": "2018009f-4545-4a89-ab45-27070e5017a4",
   "metadata": {},
   "outputs": [
    {
     "data": {
      "application/vnd.microsoft.datawrangler.viewer.v0+json": {
       "columns": [
        {
         "name": "index",
         "rawType": "int64",
         "type": "integer"
        },
        {
         "name": "opportunity_id",
         "rawType": "object",
         "type": "string"
        },
        {
         "name": "account_id",
         "rawType": "object",
         "type": "string"
        },
        {
         "name": "created_at",
         "rawType": "datetime64[ns]",
         "type": "datetime"
        },
        {
         "name": "stage",
         "rawType": "object",
         "type": "string"
        },
        {
         "name": "amount",
         "rawType": "float64",
         "type": "float"
        },
        {
         "name": "closed_won_at",
         "rawType": "datetime64[ns]",
         "type": "datetime"
        },
        {
         "name": "subscription_id",
         "rawType": "object",
         "type": "string"
        },
        {
         "name": "start_date",
         "rawType": "datetime64[ns]",
         "type": "datetime"
        },
        {
         "name": "end_date",
         "rawType": "datetime64[ns]",
         "type": "datetime"
        },
        {
         "name": "billing_status",
         "rawType": "object",
         "type": "string"
        },
        {
         "name": "invoice_count",
         "rawType": "float64",
         "type": "float"
        },
        {
         "name": "recognized_amount",
         "rawType": "float64",
         "type": "float"
        },
        {
         "name": "recognition_date",
         "rawType": "datetime64[ns]",
         "type": "datetime"
        },
        {
         "name": "status",
         "rawType": "object",
         "type": "string"
        }
       ],
       "ref": "e15fa220-9f91-4bf9-a2d6-fd2f5a1fc67e",
       "rows": [
        [
         "0",
         "OPP001",
         "ACCT001",
         "2025-03-13 00:00:00",
         "Closed Won",
         "59.99",
         "2025-03-19 00:00:00",
         "SUB001",
         "2025-03-30 00:00:00",
         "2026-03-30 00:00:00",
         "Active",
         "3.0",
         "47.992",
         "2025-04-04 00:00:00",
         "Recognized"
        ],
        [
         "1",
         "OPP002",
         "ACCT002",
         "2025-02-17 00:00:00",
         "Closed Won",
         "59.99",
         "2025-03-04 00:00:00",
         "SUB002",
         "2025-03-19 00:00:00",
         "2026-03-19 00:00:00",
         "Active",
         "3.0",
         "47.992",
         "2025-03-28 00:00:00",
         "Recognized"
        ],
        [
         "2",
         "OPP003",
         "ACCT003",
         "2025-02-12 00:00:00",
         "Closed Won",
         "29.99",
         "2025-02-24 00:00:00",
         "SUB003",
         "2025-03-05 00:00:00",
         "2026-03-05 00:00:00",
         "Active",
         "4.0",
         "23.992",
         "2025-03-12 00:00:00",
         "Recognized"
        ],
        [
         "3",
         "OPP004",
         "ACCT004",
         "2025-01-17 00:00:00",
         "Closed Won",
         "29.99",
         "2025-02-06 00:00:00",
         "SUB004",
         "2025-02-20 00:00:00",
         "2026-02-20 00:00:00",
         "Active",
         "4.0",
         "23.992",
         "2025-02-28 00:00:00",
         "Recognized"
        ],
        [
         "4",
         "OPP005",
         "ACCT005",
         "2025-02-17 00:00:00",
         "Closed Won",
         "29.99",
         "2025-03-14 00:00:00",
         "SUB005",
         "2025-03-26 00:00:00",
         "2026-03-26 00:00:00",
         "Active",
         "3.0",
         "23.992",
         "2025-04-04 00:00:00",
         "Recognized"
        ]
       ],
       "shape": {
        "columns": 14,
        "rows": 5
       }
      },
      "text/html": [
       "<div>\n",
       "<style scoped>\n",
       "    .dataframe tbody tr th:only-of-type {\n",
       "        vertical-align: middle;\n",
       "    }\n",
       "\n",
       "    .dataframe tbody tr th {\n",
       "        vertical-align: top;\n",
       "    }\n",
       "\n",
       "    .dataframe thead th {\n",
       "        text-align: right;\n",
       "    }\n",
       "</style>\n",
       "<table border=\"1\" class=\"dataframe\">\n",
       "  <thead>\n",
       "    <tr style=\"text-align: right;\">\n",
       "      <th></th>\n",
       "      <th>opportunity_id</th>\n",
       "      <th>account_id</th>\n",
       "      <th>created_at</th>\n",
       "      <th>stage</th>\n",
       "      <th>amount</th>\n",
       "      <th>closed_won_at</th>\n",
       "      <th>subscription_id</th>\n",
       "      <th>start_date</th>\n",
       "      <th>end_date</th>\n",
       "      <th>billing_status</th>\n",
       "      <th>invoice_count</th>\n",
       "      <th>recognized_amount</th>\n",
       "      <th>recognition_date</th>\n",
       "      <th>status</th>\n",
       "    </tr>\n",
       "  </thead>\n",
       "  <tbody>\n",
       "    <tr>\n",
       "      <th>0</th>\n",
       "      <td>OPP001</td>\n",
       "      <td>ACCT001</td>\n",
       "      <td>2025-03-13</td>\n",
       "      <td>Closed Won</td>\n",
       "      <td>59.99</td>\n",
       "      <td>2025-03-19</td>\n",
       "      <td>SUB001</td>\n",
       "      <td>2025-03-30</td>\n",
       "      <td>2026-03-30</td>\n",
       "      <td>Active</td>\n",
       "      <td>3.0</td>\n",
       "      <td>47.992</td>\n",
       "      <td>2025-04-04</td>\n",
       "      <td>Recognized</td>\n",
       "    </tr>\n",
       "    <tr>\n",
       "      <th>1</th>\n",
       "      <td>OPP002</td>\n",
       "      <td>ACCT002</td>\n",
       "      <td>2025-02-17</td>\n",
       "      <td>Closed Won</td>\n",
       "      <td>59.99</td>\n",
       "      <td>2025-03-04</td>\n",
       "      <td>SUB002</td>\n",
       "      <td>2025-03-19</td>\n",
       "      <td>2026-03-19</td>\n",
       "      <td>Active</td>\n",
       "      <td>3.0</td>\n",
       "      <td>47.992</td>\n",
       "      <td>2025-03-28</td>\n",
       "      <td>Recognized</td>\n",
       "    </tr>\n",
       "    <tr>\n",
       "      <th>2</th>\n",
       "      <td>OPP003</td>\n",
       "      <td>ACCT003</td>\n",
       "      <td>2025-02-12</td>\n",
       "      <td>Closed Won</td>\n",
       "      <td>29.99</td>\n",
       "      <td>2025-02-24</td>\n",
       "      <td>SUB003</td>\n",
       "      <td>2025-03-05</td>\n",
       "      <td>2026-03-05</td>\n",
       "      <td>Active</td>\n",
       "      <td>4.0</td>\n",
       "      <td>23.992</td>\n",
       "      <td>2025-03-12</td>\n",
       "      <td>Recognized</td>\n",
       "    </tr>\n",
       "    <tr>\n",
       "      <th>3</th>\n",
       "      <td>OPP004</td>\n",
       "      <td>ACCT004</td>\n",
       "      <td>2025-01-17</td>\n",
       "      <td>Closed Won</td>\n",
       "      <td>29.99</td>\n",
       "      <td>2025-02-06</td>\n",
       "      <td>SUB004</td>\n",
       "      <td>2025-02-20</td>\n",
       "      <td>2026-02-20</td>\n",
       "      <td>Active</td>\n",
       "      <td>4.0</td>\n",
       "      <td>23.992</td>\n",
       "      <td>2025-02-28</td>\n",
       "      <td>Recognized</td>\n",
       "    </tr>\n",
       "    <tr>\n",
       "      <th>4</th>\n",
       "      <td>OPP005</td>\n",
       "      <td>ACCT005</td>\n",
       "      <td>2025-02-17</td>\n",
       "      <td>Closed Won</td>\n",
       "      <td>29.99</td>\n",
       "      <td>2025-03-14</td>\n",
       "      <td>SUB005</td>\n",
       "      <td>2025-03-26</td>\n",
       "      <td>2026-03-26</td>\n",
       "      <td>Active</td>\n",
       "      <td>3.0</td>\n",
       "      <td>23.992</td>\n",
       "      <td>2025-04-04</td>\n",
       "      <td>Recognized</td>\n",
       "    </tr>\n",
       "  </tbody>\n",
       "</table>\n",
       "</div>"
      ],
      "text/plain": [
       "  opportunity_id account_id created_at       stage  amount closed_won_at  \\\n",
       "0         OPP001    ACCT001 2025-03-13  Closed Won   59.99    2025-03-19   \n",
       "1         OPP002    ACCT002 2025-02-17  Closed Won   59.99    2025-03-04   \n",
       "2         OPP003    ACCT003 2025-02-12  Closed Won   29.99    2025-02-24   \n",
       "3         OPP004    ACCT004 2025-01-17  Closed Won   29.99    2025-02-06   \n",
       "4         OPP005    ACCT005 2025-02-17  Closed Won   29.99    2025-03-14   \n",
       "\n",
       "  subscription_id start_date   end_date billing_status  invoice_count  \\\n",
       "0          SUB001 2025-03-30 2026-03-30         Active            3.0   \n",
       "1          SUB002 2025-03-19 2026-03-19         Active            3.0   \n",
       "2          SUB003 2025-03-05 2026-03-05         Active            4.0   \n",
       "3          SUB004 2025-02-20 2026-02-20         Active            4.0   \n",
       "4          SUB005 2025-03-26 2026-03-26         Active            3.0   \n",
       "\n",
       "   recognized_amount recognition_date      status  \n",
       "0             47.992       2025-04-04  Recognized  \n",
       "1             47.992       2025-03-28  Recognized  \n",
       "2             23.992       2025-03-12  Recognized  \n",
       "3             23.992       2025-02-28  Recognized  \n",
       "4             23.992       2025-04-04  Recognized  "
      ]
     },
     "execution_count": 7,
     "metadata": {},
     "output_type": "execute_result"
    }
   ],
   "source": [
    "df = df_opps.merge(df_subs, on='opportunity_id', how='left', suffixes=('_opps', '_subs'))\n",
    "df = df.merge(df_rev, on='subscription_id', how='left')\n",
    "df.head()"
   ]
  },
  {
   "cell_type": "markdown",
   "id": "7a3a9f06-7233-46fa-a7a3-073ad27c8bd5",
   "metadata": {},
   "source": [
    "## 🔄 Conversion Rate\n",
    "Let's calculate the share of opportunities that successfully converted into subscriptions."
   ]
  },
  {
   "cell_type": "code",
   "execution_count": 8,
   "id": "5886941e-444f-4d98-beac-6db2b363c5aa",
   "metadata": {},
   "outputs": [
    {
     "name": "stdout",
     "output_type": "stream",
     "text": [
      "Subscription Conversion Rate: 59.00%\n"
     ]
    }
   ],
   "source": [
    "df['has_subscription'] = df['subscription_id'].notnull()\n",
    "conversion_rate = df['has_subscription'].mean()\n",
    "print(f\"Subscription Conversion Rate: {conversion_rate:.2%}\")"
   ]
  },
  {
   "cell_type": "markdown",
   "id": "7bd410cc-3b5d-4724-baa7-2242f3958ab2",
   "metadata": {},
   "source": [
    "## 🕒 Time Durations\n",
    "For opportunities that have data in all stages of the workflow, we'll calculate key time durations:\n",
    "- Days from opportunity creation to close (`days_to_close`)\n",
    "- Days from opportunity close to subscription start (`days_to_start`)\n",
    "- Days from subscription start to revenue recognition (`days_to_revenue`)"
   ]
  },
  {
   "cell_type": "code",
   "execution_count": 9,
   "id": "6c3fc223-81f9-4151-ae65-7c39507d35b2",
   "metadata": {},
   "outputs": [
    {
     "data": {
      "application/vnd.microsoft.datawrangler.viewer.v0+json": {
       "columns": [
        {
         "name": "index",
         "rawType": "object",
         "type": "string"
        },
        {
         "name": "days_to_close",
         "rawType": "float64",
         "type": "float"
        },
        {
         "name": "days_to_start",
         "rawType": "float64",
         "type": "float"
        },
        {
         "name": "days_to_revenue",
         "rawType": "float64",
         "type": "float"
        }
       ],
       "ref": "b74a0f13-1bf5-4cf0-9467-8a2a23f32e6b",
       "rows": [
        [
         "count",
         "295.0",
         "295.0",
         "295.0"
        ],
        [
         "mean",
         "14.60677966101695",
         "10.206779661016949",
         "8.115254237288136"
        ],
        [
         "std",
         "9.22146018966177",
         "3.7245218113731653",
         "1.4334219509848862"
        ],
        [
         "min",
         "0.0",
         "0.0",
         "5.0"
        ],
        [
         "25%",
         "6.0",
         "8.0",
         "7.0"
        ],
        [
         "50%",
         "15.0",
         "11.0",
         "8.0"
        ],
        [
         "75%",
         "23.0",
         "13.0",
         "9.0"
        ],
        [
         "max",
         "30.0",
         "15.0",
         "10.0"
        ]
       ],
       "shape": {
        "columns": 3,
        "rows": 8
       }
      },
      "text/html": [
       "<div>\n",
       "<style scoped>\n",
       "    .dataframe tbody tr th:only-of-type {\n",
       "        vertical-align: middle;\n",
       "    }\n",
       "\n",
       "    .dataframe tbody tr th {\n",
       "        vertical-align: top;\n",
       "    }\n",
       "\n",
       "    .dataframe thead th {\n",
       "        text-align: right;\n",
       "    }\n",
       "</style>\n",
       "<table border=\"1\" class=\"dataframe\">\n",
       "  <thead>\n",
       "    <tr style=\"text-align: right;\">\n",
       "      <th></th>\n",
       "      <th>days_to_close</th>\n",
       "      <th>days_to_start</th>\n",
       "      <th>days_to_revenue</th>\n",
       "    </tr>\n",
       "  </thead>\n",
       "  <tbody>\n",
       "    <tr>\n",
       "      <th>count</th>\n",
       "      <td>295.00000</td>\n",
       "      <td>295.000000</td>\n",
       "      <td>295.000000</td>\n",
       "    </tr>\n",
       "    <tr>\n",
       "      <th>mean</th>\n",
       "      <td>14.60678</td>\n",
       "      <td>10.206780</td>\n",
       "      <td>8.115254</td>\n",
       "    </tr>\n",
       "    <tr>\n",
       "      <th>std</th>\n",
       "      <td>9.22146</td>\n",
       "      <td>3.724522</td>\n",
       "      <td>1.433422</td>\n",
       "    </tr>\n",
       "    <tr>\n",
       "      <th>min</th>\n",
       "      <td>0.00000</td>\n",
       "      <td>0.000000</td>\n",
       "      <td>5.000000</td>\n",
       "    </tr>\n",
       "    <tr>\n",
       "      <th>25%</th>\n",
       "      <td>6.00000</td>\n",
       "      <td>8.000000</td>\n",
       "      <td>7.000000</td>\n",
       "    </tr>\n",
       "    <tr>\n",
       "      <th>50%</th>\n",
       "      <td>15.00000</td>\n",
       "      <td>11.000000</td>\n",
       "      <td>8.000000</td>\n",
       "    </tr>\n",
       "    <tr>\n",
       "      <th>75%</th>\n",
       "      <td>23.00000</td>\n",
       "      <td>13.000000</td>\n",
       "      <td>9.000000</td>\n",
       "    </tr>\n",
       "    <tr>\n",
       "      <th>max</th>\n",
       "      <td>30.00000</td>\n",
       "      <td>15.000000</td>\n",
       "      <td>10.000000</td>\n",
       "    </tr>\n",
       "  </tbody>\n",
       "</table>\n",
       "</div>"
      ],
      "text/plain": [
       "       days_to_close  days_to_start  days_to_revenue\n",
       "count      295.00000     295.000000       295.000000\n",
       "mean        14.60678      10.206780         8.115254\n",
       "std          9.22146       3.724522         1.433422\n",
       "min          0.00000       0.000000         5.000000\n",
       "25%          6.00000       8.000000         7.000000\n",
       "50%         15.00000      11.000000         8.000000\n",
       "75%         23.00000      13.000000         9.000000\n",
       "max         30.00000      15.000000        10.000000"
      ]
     },
     "execution_count": 9,
     "metadata": {},
     "output_type": "execute_result"
    }
   ],
   "source": [
    "df = df.dropna().copy()\n",
    "df['days_to_close'] = (df['closed_won_at'] - df['created_at']).dt.days\n",
    "df['days_to_start'] = (df['start_date'] - df['closed_won_at']).dt.days\n",
    "df['days_to_revenue'] = (df['recognition_date'] - df['start_date']).dt.days\n",
    "df[['days_to_close', 'days_to_start', 'days_to_revenue']].describe()"
   ]
  },
  {
   "cell_type": "markdown",
   "id": "ccbef743-bc23-4a5b-8bae-1ac9d2e056f4",
   "metadata": {},
   "source": [
    "## 📈 Workflow Timeline Distributions\n",
    "Now let’s visualize the distribution of durations in each stage."
   ]
  },
  {
   "cell_type": "code",
   "execution_count": 10,
   "metadata": {},
   "outputs": [
    {
     "data": {
      "image/png": "[encoded data removed]",
      "text/plain": [
       "<Figure size 1800x500 with 3 Axes>"
      ]
     },
     "metadata": {},
     "output_type": "display_data"
    }
   ],
   "source": [
    "fig, axes = plt.subplots(1, 3, figsize=(18, 5))\n",
    "\n",
    "metrics = ['days_to_close', 'days_to_start', 'days_to_revenue']\n",
    "titles = ['Days to Close (Opportunity)', 'Days to Start (Subscription)', 'Days to Revenue Recognition']\n",
    "colors = ['skyblue', 'lightgreen', 'salmon']\n",
    "\n",
    "for ax, metric, title, color in zip(axes, metrics, titles, colors):\n",
    "    sns.histplot(df[metric], kde=True, ax=ax, color=color, edgecolor='black')\n",
    "\n",
    "    # Calculate mean and median\n",
    "    mean_val = df[metric].mean()\n",
    "    median_val = df[metric].median()\n",
    "\n",
    "    # Plot vertical lines\n",
    "    ax.axvline(mean_val, color='blue', linestyle='--', linewidth=1.5, label=f'Mean: {mean_val:.1f} days')\n",
    "    ax.axvline(median_val, color='red', linestyle=':', linewidth=1.5, label=f'Median: {median_val:.1f} days')\n",
    "\n",
    "    # Labels and formatting\n",
    "    ax.set_title(title)\n",
    "    ax.set_xlabel(\"Days\")\n",
    "    ax.set_ylabel(\"Count\")\n",
    "    ax.legend()\n",
    "\n",
    "plt.tight_layout()\n",
    "plt.show()"
   ]
  },
  {
   "cell_type": "markdown",
   "id": "fe951a53-7360-4279-8227-f520ca11949f",
   "metadata": {},
   "source": [
    "## ✅ Wrap Up\n",
    "With this, we have a strong start on a quote-to-cash analysis. We can already see there might be some room for improvement in the subscription and revenue recognition pipelines. Some next steps that would be worth taking on live data:\n",
    "- Outlier detection\n",
    "- Aggregated revenue over time\n",
    "- Comparison of active vs suspended subscriptions\n",
    "- Simulation of how delays in one stage impact downstream metrics"
   ]
  }
 ],
 "metadata": {
  "kernelspec": {
   "display_name": "1_base_data",
   "language": "python",
   "name": "python3"
  },
  "language_info": {
   "codemirror_mode": {
    "name": "ipython",
    "version": 3
   },
   "file_extension": ".py",
   "mimetype": "text/x-python",
   "name": "python",
   "nbconvert_exporter": "python",
   "pygments_lexer": "ipython3",
   "version": "3.9.21"
  }
 },
 "nbformat": 4,
 "nbformat_minor": 2
}
